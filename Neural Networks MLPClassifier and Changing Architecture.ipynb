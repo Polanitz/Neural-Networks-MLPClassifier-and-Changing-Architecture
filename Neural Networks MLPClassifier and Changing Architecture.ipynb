{
 "cells": [
  {
   "cell_type": "code",
   "execution_count": 1,
   "metadata": {},
   "outputs": [],
   "source": [
    "import pandas as pd"
   ]
  },
  {
   "cell_type": "markdown",
   "metadata": {},
   "source": [
    "Load the file mal_users.csv"
   ]
  },
  {
   "cell_type": "code",
   "execution_count": 2,
   "metadata": {},
   "outputs": [],
   "source": [
    "df = pd.read_csv('mal_users.csv')"
   ]
  },
  {
   "cell_type": "markdown",
   "metadata": {},
   "source": [
    "Use head to see some data. Res is your target var"
   ]
  },
  {
   "cell_type": "code",
   "execution_count": 3,
   "metadata": {},
   "outputs": [
    {
     "data": {
      "text/html": [
       "<div>\n",
       "<style scoped>\n",
       "    .dataframe tbody tr th:only-of-type {\n",
       "        vertical-align: middle;\n",
       "    }\n",
       "\n",
       "    .dataframe tbody tr th {\n",
       "        vertical-align: top;\n",
       "    }\n",
       "\n",
       "    .dataframe thead th {\n",
       "        text-align: right;\n",
       "    }\n",
       "</style>\n",
       "<table border=\"1\" class=\"dataframe\">\n",
       "  <thead>\n",
       "    <tr style=\"text-align: right;\">\n",
       "      <th></th>\n",
       "      <th>A</th>\n",
       "      <th>B</th>\n",
       "      <th>C</th>\n",
       "      <th>D</th>\n",
       "      <th>E</th>\n",
       "      <th>F</th>\n",
       "      <th>G</th>\n",
       "      <th>H</th>\n",
       "      <th>I</th>\n",
       "      <th>J</th>\n",
       "      <th>K</th>\n",
       "      <th>L</th>\n",
       "      <th>M</th>\n",
       "      <th>N</th>\n",
       "      <th>O</th>\n",
       "      <th>P</th>\n",
       "      <th>Q</th>\n",
       "      <th>Res</th>\n",
       "    </tr>\n",
       "  </thead>\n",
       "  <tbody>\n",
       "    <tr>\n",
       "      <td>0</td>\n",
       "      <td>17.99</td>\n",
       "      <td>10.38</td>\n",
       "      <td>122.80</td>\n",
       "      <td>1001.0</td>\n",
       "      <td>0.11840</td>\n",
       "      <td>0.27760</td>\n",
       "      <td>0.3001</td>\n",
       "      <td>0.14710</td>\n",
       "      <td>0.2419</td>\n",
       "      <td>0.07871</td>\n",
       "      <td>1.0950</td>\n",
       "      <td>0.9053</td>\n",
       "      <td>8.589</td>\n",
       "      <td>153.40</td>\n",
       "      <td>0.2654</td>\n",
       "      <td>0.4601</td>\n",
       "      <td>0.11890</td>\n",
       "      <td>0</td>\n",
       "    </tr>\n",
       "    <tr>\n",
       "      <td>1</td>\n",
       "      <td>20.57</td>\n",
       "      <td>17.77</td>\n",
       "      <td>132.90</td>\n",
       "      <td>1326.0</td>\n",
       "      <td>0.08474</td>\n",
       "      <td>0.07864</td>\n",
       "      <td>0.0869</td>\n",
       "      <td>0.07017</td>\n",
       "      <td>0.1812</td>\n",
       "      <td>0.05667</td>\n",
       "      <td>0.5435</td>\n",
       "      <td>0.7339</td>\n",
       "      <td>3.398</td>\n",
       "      <td>74.08</td>\n",
       "      <td>0.1860</td>\n",
       "      <td>0.2750</td>\n",
       "      <td>0.08902</td>\n",
       "      <td>0</td>\n",
       "    </tr>\n",
       "    <tr>\n",
       "      <td>2</td>\n",
       "      <td>19.69</td>\n",
       "      <td>21.25</td>\n",
       "      <td>130.00</td>\n",
       "      <td>1203.0</td>\n",
       "      <td>0.10960</td>\n",
       "      <td>0.15990</td>\n",
       "      <td>0.1974</td>\n",
       "      <td>0.12790</td>\n",
       "      <td>0.2069</td>\n",
       "      <td>0.05999</td>\n",
       "      <td>0.7456</td>\n",
       "      <td>0.7869</td>\n",
       "      <td>4.585</td>\n",
       "      <td>94.03</td>\n",
       "      <td>0.2430</td>\n",
       "      <td>0.3613</td>\n",
       "      <td>0.08758</td>\n",
       "      <td>0</td>\n",
       "    </tr>\n",
       "    <tr>\n",
       "      <td>3</td>\n",
       "      <td>11.42</td>\n",
       "      <td>20.38</td>\n",
       "      <td>77.58</td>\n",
       "      <td>386.1</td>\n",
       "      <td>0.14250</td>\n",
       "      <td>0.28390</td>\n",
       "      <td>0.2414</td>\n",
       "      <td>0.10520</td>\n",
       "      <td>0.2597</td>\n",
       "      <td>0.09744</td>\n",
       "      <td>0.4956</td>\n",
       "      <td>1.1560</td>\n",
       "      <td>3.445</td>\n",
       "      <td>27.23</td>\n",
       "      <td>0.2575</td>\n",
       "      <td>0.6638</td>\n",
       "      <td>0.17300</td>\n",
       "      <td>0</td>\n",
       "    </tr>\n",
       "    <tr>\n",
       "      <td>4</td>\n",
       "      <td>20.29</td>\n",
       "      <td>14.34</td>\n",
       "      <td>135.10</td>\n",
       "      <td>1297.0</td>\n",
       "      <td>0.10030</td>\n",
       "      <td>0.13280</td>\n",
       "      <td>0.1980</td>\n",
       "      <td>0.10430</td>\n",
       "      <td>0.1809</td>\n",
       "      <td>0.05883</td>\n",
       "      <td>0.7572</td>\n",
       "      <td>0.7813</td>\n",
       "      <td>5.438</td>\n",
       "      <td>94.44</td>\n",
       "      <td>0.1625</td>\n",
       "      <td>0.2364</td>\n",
       "      <td>0.07678</td>\n",
       "      <td>0</td>\n",
       "    </tr>\n",
       "  </tbody>\n",
       "</table>\n",
       "</div>"
      ],
      "text/plain": [
       "       A      B       C       D        E        F       G        H       I  \\\n",
       "0  17.99  10.38  122.80  1001.0  0.11840  0.27760  0.3001  0.14710  0.2419   \n",
       "1  20.57  17.77  132.90  1326.0  0.08474  0.07864  0.0869  0.07017  0.1812   \n",
       "2  19.69  21.25  130.00  1203.0  0.10960  0.15990  0.1974  0.12790  0.2069   \n",
       "3  11.42  20.38   77.58   386.1  0.14250  0.28390  0.2414  0.10520  0.2597   \n",
       "4  20.29  14.34  135.10  1297.0  0.10030  0.13280  0.1980  0.10430  0.1809   \n",
       "\n",
       "         J       K       L      M       N       O       P        Q  Res  \n",
       "0  0.07871  1.0950  0.9053  8.589  153.40  0.2654  0.4601  0.11890    0  \n",
       "1  0.05667  0.5435  0.7339  3.398   74.08  0.1860  0.2750  0.08902    0  \n",
       "2  0.05999  0.7456  0.7869  4.585   94.03  0.2430  0.3613  0.08758    0  \n",
       "3  0.09744  0.4956  1.1560  3.445   27.23  0.2575  0.6638  0.17300    0  \n",
       "4  0.05883  0.7572  0.7813  5.438   94.44  0.1625  0.2364  0.07678    0  "
      ]
     },
     "execution_count": 3,
     "metadata": {},
     "output_type": "execute_result"
    }
   ],
   "source": [
    "df.head()"
   ]
  },
  {
   "cell_type": "code",
   "execution_count": 4,
   "metadata": {},
   "outputs": [
    {
     "data": {
      "text/html": [
       "<div>\n",
       "<style scoped>\n",
       "    .dataframe tbody tr th:only-of-type {\n",
       "        vertical-align: middle;\n",
       "    }\n",
       "\n",
       "    .dataframe tbody tr th {\n",
       "        vertical-align: top;\n",
       "    }\n",
       "\n",
       "    .dataframe thead th {\n",
       "        text-align: right;\n",
       "    }\n",
       "</style>\n",
       "<table border=\"1\" class=\"dataframe\">\n",
       "  <thead>\n",
       "    <tr style=\"text-align: right;\">\n",
       "      <th></th>\n",
       "      <th>count</th>\n",
       "      <th>mean</th>\n",
       "      <th>std</th>\n",
       "      <th>min</th>\n",
       "      <th>25%</th>\n",
       "      <th>50%</th>\n",
       "      <th>75%</th>\n",
       "      <th>max</th>\n",
       "    </tr>\n",
       "  </thead>\n",
       "  <tbody>\n",
       "    <tr>\n",
       "      <td>A</td>\n",
       "      <td>569.0</td>\n",
       "      <td>14.127292</td>\n",
       "      <td>3.524049</td>\n",
       "      <td>6.98100</td>\n",
       "      <td>11.70000</td>\n",
       "      <td>13.37000</td>\n",
       "      <td>15.78000</td>\n",
       "      <td>28.11000</td>\n",
       "    </tr>\n",
       "    <tr>\n",
       "      <td>B</td>\n",
       "      <td>569.0</td>\n",
       "      <td>19.289649</td>\n",
       "      <td>4.301036</td>\n",
       "      <td>9.71000</td>\n",
       "      <td>16.17000</td>\n",
       "      <td>18.84000</td>\n",
       "      <td>21.80000</td>\n",
       "      <td>39.28000</td>\n",
       "    </tr>\n",
       "    <tr>\n",
       "      <td>C</td>\n",
       "      <td>569.0</td>\n",
       "      <td>91.969033</td>\n",
       "      <td>24.298981</td>\n",
       "      <td>43.79000</td>\n",
       "      <td>75.17000</td>\n",
       "      <td>86.24000</td>\n",
       "      <td>104.10000</td>\n",
       "      <td>188.50000</td>\n",
       "    </tr>\n",
       "    <tr>\n",
       "      <td>D</td>\n",
       "      <td>569.0</td>\n",
       "      <td>654.889104</td>\n",
       "      <td>351.914129</td>\n",
       "      <td>143.50000</td>\n",
       "      <td>420.30000</td>\n",
       "      <td>551.10000</td>\n",
       "      <td>782.70000</td>\n",
       "      <td>2501.00000</td>\n",
       "    </tr>\n",
       "    <tr>\n",
       "      <td>E</td>\n",
       "      <td>569.0</td>\n",
       "      <td>0.096360</td>\n",
       "      <td>0.014064</td>\n",
       "      <td>0.05263</td>\n",
       "      <td>0.08637</td>\n",
       "      <td>0.09587</td>\n",
       "      <td>0.10530</td>\n",
       "      <td>0.16340</td>\n",
       "    </tr>\n",
       "    <tr>\n",
       "      <td>F</td>\n",
       "      <td>569.0</td>\n",
       "      <td>0.104341</td>\n",
       "      <td>0.052813</td>\n",
       "      <td>0.01938</td>\n",
       "      <td>0.06492</td>\n",
       "      <td>0.09263</td>\n",
       "      <td>0.13040</td>\n",
       "      <td>0.34540</td>\n",
       "    </tr>\n",
       "    <tr>\n",
       "      <td>G</td>\n",
       "      <td>569.0</td>\n",
       "      <td>0.088799</td>\n",
       "      <td>0.079720</td>\n",
       "      <td>0.00000</td>\n",
       "      <td>0.02956</td>\n",
       "      <td>0.06154</td>\n",
       "      <td>0.13070</td>\n",
       "      <td>0.42680</td>\n",
       "    </tr>\n",
       "    <tr>\n",
       "      <td>H</td>\n",
       "      <td>569.0</td>\n",
       "      <td>0.048919</td>\n",
       "      <td>0.038803</td>\n",
       "      <td>0.00000</td>\n",
       "      <td>0.02031</td>\n",
       "      <td>0.03350</td>\n",
       "      <td>0.07400</td>\n",
       "      <td>0.20120</td>\n",
       "    </tr>\n",
       "    <tr>\n",
       "      <td>I</td>\n",
       "      <td>569.0</td>\n",
       "      <td>0.181162</td>\n",
       "      <td>0.027414</td>\n",
       "      <td>0.10600</td>\n",
       "      <td>0.16190</td>\n",
       "      <td>0.17920</td>\n",
       "      <td>0.19570</td>\n",
       "      <td>0.30400</td>\n",
       "    </tr>\n",
       "    <tr>\n",
       "      <td>J</td>\n",
       "      <td>569.0</td>\n",
       "      <td>0.062798</td>\n",
       "      <td>0.007060</td>\n",
       "      <td>0.04996</td>\n",
       "      <td>0.05770</td>\n",
       "      <td>0.06154</td>\n",
       "      <td>0.06612</td>\n",
       "      <td>0.09744</td>\n",
       "    </tr>\n",
       "    <tr>\n",
       "      <td>K</td>\n",
       "      <td>569.0</td>\n",
       "      <td>0.405172</td>\n",
       "      <td>0.277313</td>\n",
       "      <td>0.11150</td>\n",
       "      <td>0.23240</td>\n",
       "      <td>0.32420</td>\n",
       "      <td>0.47890</td>\n",
       "      <td>2.87300</td>\n",
       "    </tr>\n",
       "    <tr>\n",
       "      <td>L</td>\n",
       "      <td>569.0</td>\n",
       "      <td>1.216853</td>\n",
       "      <td>0.551648</td>\n",
       "      <td>0.36020</td>\n",
       "      <td>0.83390</td>\n",
       "      <td>1.10800</td>\n",
       "      <td>1.47400</td>\n",
       "      <td>4.88500</td>\n",
       "    </tr>\n",
       "    <tr>\n",
       "      <td>M</td>\n",
       "      <td>569.0</td>\n",
       "      <td>2.866059</td>\n",
       "      <td>2.021855</td>\n",
       "      <td>0.75700</td>\n",
       "      <td>1.60600</td>\n",
       "      <td>2.28700</td>\n",
       "      <td>3.35700</td>\n",
       "      <td>21.98000</td>\n",
       "    </tr>\n",
       "    <tr>\n",
       "      <td>N</td>\n",
       "      <td>569.0</td>\n",
       "      <td>40.337079</td>\n",
       "      <td>45.491006</td>\n",
       "      <td>6.80200</td>\n",
       "      <td>17.85000</td>\n",
       "      <td>24.53000</td>\n",
       "      <td>45.19000</td>\n",
       "      <td>542.20000</td>\n",
       "    </tr>\n",
       "    <tr>\n",
       "      <td>O</td>\n",
       "      <td>569.0</td>\n",
       "      <td>0.114606</td>\n",
       "      <td>0.065732</td>\n",
       "      <td>0.00000</td>\n",
       "      <td>0.06493</td>\n",
       "      <td>0.09993</td>\n",
       "      <td>0.16140</td>\n",
       "      <td>0.29100</td>\n",
       "    </tr>\n",
       "    <tr>\n",
       "      <td>P</td>\n",
       "      <td>569.0</td>\n",
       "      <td>0.290076</td>\n",
       "      <td>0.061867</td>\n",
       "      <td>0.15650</td>\n",
       "      <td>0.25040</td>\n",
       "      <td>0.28220</td>\n",
       "      <td>0.31790</td>\n",
       "      <td>0.66380</td>\n",
       "    </tr>\n",
       "    <tr>\n",
       "      <td>Q</td>\n",
       "      <td>569.0</td>\n",
       "      <td>0.083946</td>\n",
       "      <td>0.018061</td>\n",
       "      <td>0.05504</td>\n",
       "      <td>0.07146</td>\n",
       "      <td>0.08004</td>\n",
       "      <td>0.09208</td>\n",
       "      <td>0.20750</td>\n",
       "    </tr>\n",
       "    <tr>\n",
       "      <td>Res</td>\n",
       "      <td>569.0</td>\n",
       "      <td>0.627417</td>\n",
       "      <td>0.483918</td>\n",
       "      <td>0.00000</td>\n",
       "      <td>0.00000</td>\n",
       "      <td>1.00000</td>\n",
       "      <td>1.00000</td>\n",
       "      <td>1.00000</td>\n",
       "    </tr>\n",
       "  </tbody>\n",
       "</table>\n",
       "</div>"
      ],
      "text/plain": [
       "     count        mean         std        min        25%        50%  \\\n",
       "A    569.0   14.127292    3.524049    6.98100   11.70000   13.37000   \n",
       "B    569.0   19.289649    4.301036    9.71000   16.17000   18.84000   \n",
       "C    569.0   91.969033   24.298981   43.79000   75.17000   86.24000   \n",
       "D    569.0  654.889104  351.914129  143.50000  420.30000  551.10000   \n",
       "E    569.0    0.096360    0.014064    0.05263    0.08637    0.09587   \n",
       "F    569.0    0.104341    0.052813    0.01938    0.06492    0.09263   \n",
       "G    569.0    0.088799    0.079720    0.00000    0.02956    0.06154   \n",
       "H    569.0    0.048919    0.038803    0.00000    0.02031    0.03350   \n",
       "I    569.0    0.181162    0.027414    0.10600    0.16190    0.17920   \n",
       "J    569.0    0.062798    0.007060    0.04996    0.05770    0.06154   \n",
       "K    569.0    0.405172    0.277313    0.11150    0.23240    0.32420   \n",
       "L    569.0    1.216853    0.551648    0.36020    0.83390    1.10800   \n",
       "M    569.0    2.866059    2.021855    0.75700    1.60600    2.28700   \n",
       "N    569.0   40.337079   45.491006    6.80200   17.85000   24.53000   \n",
       "O    569.0    0.114606    0.065732    0.00000    0.06493    0.09993   \n",
       "P    569.0    0.290076    0.061867    0.15650    0.25040    0.28220   \n",
       "Q    569.0    0.083946    0.018061    0.05504    0.07146    0.08004   \n",
       "Res  569.0    0.627417    0.483918    0.00000    0.00000    1.00000   \n",
       "\n",
       "           75%         max  \n",
       "A     15.78000    28.11000  \n",
       "B     21.80000    39.28000  \n",
       "C    104.10000   188.50000  \n",
       "D    782.70000  2501.00000  \n",
       "E      0.10530     0.16340  \n",
       "F      0.13040     0.34540  \n",
       "G      0.13070     0.42680  \n",
       "H      0.07400     0.20120  \n",
       "I      0.19570     0.30400  \n",
       "J      0.06612     0.09744  \n",
       "K      0.47890     2.87300  \n",
       "L      1.47400     4.88500  \n",
       "M      3.35700    21.98000  \n",
       "N     45.19000   542.20000  \n",
       "O      0.16140     0.29100  \n",
       "P      0.31790     0.66380  \n",
       "Q      0.09208     0.20750  \n",
       "Res    1.00000     1.00000  "
      ]
     },
     "execution_count": 4,
     "metadata": {},
     "output_type": "execute_result"
    }
   ],
   "source": [
    "df.describe().T"
   ]
  },
  {
   "cell_type": "code",
   "execution_count": 5,
   "metadata": {},
   "outputs": [
    {
     "data": {
      "text/plain": [
       "1    357\n",
       "0    212\n",
       "Name: Res, dtype: int64"
      ]
     },
     "execution_count": 5,
     "metadata": {},
     "output_type": "execute_result"
    }
   ],
   "source": [
    "df.Res.value_counts()"
   ]
  },
  {
   "cell_type": "markdown",
   "metadata": {},
   "source": [
    "Define the features and target var (X, y)"
   ]
  },
  {
   "cell_type": "code",
   "execution_count": 6,
   "metadata": {},
   "outputs": [],
   "source": [
    "X = df.drop('Res',axis=1)\n",
    "y = df.Res"
   ]
  },
  {
   "cell_type": "markdown",
   "metadata": {},
   "source": [
    "Split the data"
   ]
  },
  {
   "cell_type": "code",
   "execution_count": 7,
   "metadata": {},
   "outputs": [],
   "source": [
    "from sklearn.model_selection import train_test_split\n",
    "X_train, X_test, y_train, y_test = train_test_split(X, y, test_size=0.33, random_state=42)"
   ]
  },
  {
   "cell_type": "markdown",
   "metadata": {},
   "source": [
    "Use MLPClassifier to define a neural network with one hidden layer with size 10 "
   ]
  },
  {
   "cell_type": "code",
   "execution_count": 8,
   "metadata": {},
   "outputs": [],
   "source": [
    "from sklearn.neural_network import MLPClassifier"
   ]
  },
  {
   "cell_type": "code",
   "execution_count": 9,
   "metadata": {},
   "outputs": [],
   "source": [
    "mlp = MLPClassifier(hidden_layer_sizes=(10,),max_iter=1000)"
   ]
  },
  {
   "cell_type": "markdown",
   "metadata": {},
   "source": [
    "Train the network (fit)"
   ]
  },
  {
   "cell_type": "code",
   "execution_count": 10,
   "metadata": {},
   "outputs": [
    {
     "data": {
      "text/plain": [
       "MLPClassifier(hidden_layer_sizes=(10,), max_iter=1000)"
      ]
     },
     "execution_count": 10,
     "metadata": {},
     "output_type": "execute_result"
    }
   ],
   "source": [
    "mlp.fit(X_train,y_train)"
   ]
  },
  {
   "cell_type": "markdown",
   "metadata": {},
   "source": [
    "Test the model"
   ]
  },
  {
   "cell_type": "code",
   "execution_count": 11,
   "metadata": {},
   "outputs": [],
   "source": [
    "predictions = mlp.predict(X_test)"
   ]
  },
  {
   "cell_type": "markdown",
   "metadata": {},
   "source": [
    "Create classification report and confusion matrix"
   ]
  },
  {
   "cell_type": "code",
   "execution_count": 12,
   "metadata": {},
   "outputs": [
    {
     "name": "stdout",
     "output_type": "stream",
     "text": [
      "MLPClassifier with one hidden layer with size 10\n",
      "-------------------------------------------\n",
      "\n",
      " accuracy:\n",
      "---------------\n",
      "0.9414893617021277\n"
     ]
    }
   ],
   "source": [
    "from sklearn.metrics import accuracy_score\n",
    "print('MLPClassifier with one hidden layer with size 10')\n",
    "print(\"-------------------------------------------\")\n",
    "print('\\n accuracy:')\n",
    "print('---------------')\n",
    "print(accuracy_score(y_test, predictions))"
   ]
  },
  {
   "cell_type": "code",
   "execution_count": 13,
   "metadata": {},
   "outputs": [
    {
     "name": "stdout",
     "output_type": "stream",
     "text": [
      "\n",
      "Confusion Matrix\n",
      "-------------------\n",
      "    0    1\n",
      "0  59    8\n",
      "1   3  118\n"
     ]
    }
   ],
   "source": [
    "from sklearn.metrics import confusion_matrix\n",
    "cm = confusion_matrix(y_test,predictions)\n",
    "cmDf=pd.DataFrame(cm,index=mlp.classes_,columns=mlp.classes_)\n",
    "print('\\nConfusion Matrix')\n",
    "print('-------------------')\n",
    "print(cmDf)"
   ]
  },
  {
   "cell_type": "code",
   "execution_count": 14,
   "metadata": {},
   "outputs": [
    {
     "name": "stdout",
     "output_type": "stream",
     "text": [
      "\n",
      "classification_report\n",
      "------------------------\n",
      "              precision    recall  f1-score   support\n",
      "\n",
      "           0       0.95      0.88      0.91        67\n",
      "           1       0.94      0.98      0.96       121\n",
      "\n",
      "    accuracy                           0.94       188\n",
      "   macro avg       0.94      0.93      0.94       188\n",
      "weighted avg       0.94      0.94      0.94       188\n",
      "\n"
     ]
    }
   ],
   "source": [
    "from sklearn.metrics import classification_report      \n",
    "print ('\\nclassification_report')\n",
    "print('------------------------')\n",
    "print(classification_report(y_test,predictions))"
   ]
  },
  {
   "cell_type": "markdown",
   "metadata": {},
   "source": [
    "Display network weights (coefs_)"
   ]
  },
  {
   "cell_type": "code",
   "execution_count": 15,
   "metadata": {},
   "outputs": [
    {
     "data": {
      "text/plain": [
       "2"
      ]
     },
     "execution_count": 15,
     "metadata": {},
     "output_type": "execute_result"
    }
   ],
   "source": [
    "len(mlp.coefs_)"
   ]
  },
  {
   "cell_type": "code",
   "execution_count": 16,
   "metadata": {},
   "outputs": [
    {
     "data": {
      "text/plain": [
       "array([[-1.16563065e-03, -1.09797599e-01, -4.84937360e-01,\n",
       "         2.86005719e-01,  5.50908641e-03,  4.74161659e-01,\n",
       "        -2.02373215e-01, -3.42732110e-01, -1.81027582e-02,\n",
       "        -1.62082317e-02],\n",
       "       [-1.35770635e-02, -1.25639419e-01,  3.44199620e-01,\n",
       "         2.41397617e-01, -1.03667348e-02, -3.46492948e-01,\n",
       "        -1.50028395e-01, -3.78513636e-01, -3.48120005e-03,\n",
       "        -1.39036854e-02],\n",
       "       [-2.78603072e-03, -3.42065555e-01,  3.74852379e-01,\n",
       "         2.31348828e-01, -8.50971333e-02,  3.75049906e-01,\n",
       "        -3.05294778e-02, -4.04144616e-01,  8.89227164e-15,\n",
       "        -2.76645902e-02],\n",
       "       [-9.00174596e-06,  3.99615759e-01,  2.69547413e-01,\n",
       "         1.56139619e-01, -3.18900226e-02, -4.50693835e-02,\n",
       "         1.16976336e-01,  6.30431700e-02, -2.16221609e-02,\n",
       "        -1.86261914e-02],\n",
       "       [ 1.18246643e-02, -1.10131632e-02, -1.74040311e-02,\n",
       "         1.21316928e-01, -1.99933966e-02, -3.41867453e-01,\n",
       "        -1.24681989e-01, -4.36274863e-01, -1.86933455e-09,\n",
       "         1.35508038e-01],\n",
       "       [ 2.16690619e-03, -3.27128284e-01,  8.45221405e-01,\n",
       "        -5.38905868e-01,  1.65568154e-02, -9.05293323e-01,\n",
       "         8.11857549e-01,  1.94799936e-02,  3.94715303e-10,\n",
       "        -9.70920446e-03],\n",
       "       [ 1.99976510e-15, -5.37178678e-01,  9.39533119e-01,\n",
       "        -6.16711924e-01,  6.85561095e-02, -1.02895588e+00,\n",
       "         1.00263337e+00, -1.25401054e-01, -1.32128934e-02,\n",
       "         7.49670977e-02],\n",
       "       [-2.20344799e-02, -1.12085588e+00,  8.29627364e-01,\n",
       "        -1.07448188e+00, -4.53105551e-03, -1.19528875e+00,\n",
       "         8.40913503e-01, -1.02826802e-01,  1.25446146e-03,\n",
       "        -2.56412530e-02],\n",
       "       [-4.16701991e-04,  6.02326936e-02,  1.48328550e-01,\n",
       "        -1.45341223e-01, -4.47834705e-03, -4.82331672e-01,\n",
       "         1.79247981e-01, -2.62259049e-01,  7.76759263e-03,\n",
       "        -1.49833994e-01],\n",
       "       [-1.93909150e-02,  1.73060509e-01,  4.20384493e-01,\n",
       "        -1.17161459e-01,  1.51795633e-03, -8.98429415e-02,\n",
       "         6.19154989e-02,  2.69277179e-01,  2.35412279e-03,\n",
       "         5.01735487e-02],\n",
       "       [-1.87250810e-02,  6.16500963e-01, -1.47554712e-03,\n",
       "        -2.81284883e-01, -9.13298230e-03,  3.52492043e-01,\n",
       "        -4.11772265e-01, -8.22336464e-03,  1.88735554e-02,\n",
       "        -2.45087035e-01],\n",
       "       [ 2.56502018e-07,  1.03991003e-01,  2.56120778e-01,\n",
       "        -2.82054457e-01,  1.07749841e-01,  5.59334147e-01,\n",
       "        -2.14708328e-01,  4.13365693e-01,  8.48250627e-18,\n",
       "         1.76987050e-01],\n",
       "       [ 1.15450346e-03,  1.46643939e-01, -4.78446851e-01,\n",
       "        -8.95406333e-03, -1.61647424e-02, -1.37418224e-02,\n",
       "        -1.48863368e-01, -2.95379066e-01, -3.50870940e-06,\n",
       "         2.07880905e-01],\n",
       "       [-1.55284812e-02, -2.27734884e-02, -5.39333681e-01,\n",
       "         2.40583905e-01,  1.36872818e-01,  5.30844262e-02,\n",
       "         3.17479471e-01, -9.37489625e-02,  4.41247633e-03,\n",
       "        -1.70778571e-02],\n",
       "       [ 2.49854372e-02, -7.54098465e-01,  8.48688243e-01,\n",
       "        -4.70962403e-01, -2.13189276e-02, -8.60864020e-01,\n",
       "         4.18202241e-01,  1.33913685e-01,  1.98734036e-11,\n",
       "         1.22666475e-01],\n",
       "       [ 2.14193451e-03, -8.15054972e-01,  8.61004039e-01,\n",
       "        -6.23813987e-01, -9.69465748e-03, -6.83449226e-01,\n",
       "         3.46636211e-01,  1.68862270e-01,  5.03052575e-03,\n",
       "        -9.46358988e-02],\n",
       "       [-8.24198811e-04, -4.10680099e-01,  2.19812009e-01,\n",
       "         2.66795725e-02,  8.04473834e-03, -9.70904662e-01,\n",
       "         6.39419727e-02, -1.89495879e-01, -1.05183252e-19,\n",
       "        -1.26633013e-01]])"
      ]
     },
     "execution_count": 16,
     "metadata": {},
     "output_type": "execute_result"
    }
   ],
   "source": [
    "mlp.coefs_[0]"
   ]
  },
  {
   "cell_type": "code",
   "execution_count": 17,
   "metadata": {},
   "outputs": [
    {
     "data": {
      "text/plain": [
       "[array([-0.13303858, -0.29488473, -0.17800427, -0.24547558,  0.35822501,\n",
       "         0.48072754, -0.07840178,  0.05717838,  0.15065048,  0.40373145]),\n",
       " array([-0.44196315])]"
      ]
     },
     "execution_count": 17,
     "metadata": {},
     "output_type": "execute_result"
    }
   ],
   "source": [
    "mlp.intercepts_"
   ]
  },
  {
   "cell_type": "markdown",
   "metadata": {},
   "source": [
    "Change Network structure to improve the results<br>\n",
    "* add layers\n",
    "* add neurons\n",
    "* add more iterations"
   ]
  },
  {
   "cell_type": "code",
   "execution_count": 18,
   "metadata": {},
   "outputs": [
    {
     "name": "stdout",
     "output_type": "stream",
     "text": [
      "MLPClassifier with 4 hidden layers with size 10\n",
      "-------------------------------------------\n",
      "\n",
      " accuracy:\n",
      "---------------\n",
      "0.9308510638297872\n",
      "\n",
      "Confusion Matrix\n",
      "-------------------\n",
      "    0    1\n",
      "0  59    8\n",
      "1   5  116\n",
      "\n",
      "classification_report\n",
      "------------------------\n",
      "              precision    recall  f1-score   support\n",
      "\n",
      "           0       0.92      0.88      0.90        67\n",
      "           1       0.94      0.96      0.95       121\n",
      "\n",
      "    accuracy                           0.93       188\n",
      "   macro avg       0.93      0.92      0.92       188\n",
      "weighted avg       0.93      0.93      0.93       188\n",
      "\n"
     ]
    }
   ],
   "source": [
    "mlp1 = MLPClassifier(hidden_layer_sizes=(100),max_iter=2000)\n",
    "mlp1.fit(X_train,y_train)\n",
    "y_pred1=mlp1.predict(X_test)\n",
    "from sklearn.metrics import accuracy_score\n",
    "print('MLPClassifier with 4 hidden layers with size 10')\n",
    "print(\"-------------------------------------------\")\n",
    "print('\\n accuracy:')\n",
    "print('---------------')\n",
    "print(accuracy_score(y_test, y_pred1))\n",
    "from sklearn.metrics import confusion_matrix\n",
    "cm1 = confusion_matrix(y_test, y_pred1)\n",
    "cmDf1=pd.DataFrame(cm1, index=mlp1.classes_, columns=mlp1.classes_)\n",
    "print('\\nConfusion Matrix')\n",
    "print('-------------------')\n",
    "print(cmDf1)\n",
    "from sklearn.metrics import classification_report      \n",
    "print ('\\nclassification_report')\n",
    "print('------------------------')\n",
    "print(classification_report(y_test, y_pred1))"
   ]
  },
  {
   "cell_type": "code",
   "execution_count": 19,
   "metadata": {},
   "outputs": [
    {
     "name": "stdout",
     "output_type": "stream",
     "text": [
      "MLPClassifier with 4 hidden layers with size 20\n",
      "-------------------------------------------\n",
      "\n",
      " accuracy:\n",
      "---------------\n",
      "0.9308510638297872\n",
      "\n",
      "Confusion Matrix\n",
      "-------------------\n",
      "    0    1\n",
      "0  60    7\n",
      "1   6  115\n",
      "\n",
      "classification_report\n",
      "------------------------\n",
      "              precision    recall  f1-score   support\n",
      "\n",
      "           0       0.91      0.90      0.90        67\n",
      "           1       0.94      0.95      0.95       121\n",
      "\n",
      "    accuracy                           0.93       188\n",
      "   macro avg       0.93      0.92      0.92       188\n",
      "weighted avg       0.93      0.93      0.93       188\n",
      "\n"
     ]
    }
   ],
   "source": [
    "mlp2 = MLPClassifier(hidden_layer_sizes=(20, 20, 20, 20),max_iter=1000)\n",
    "mlp2.fit(X_train,y_train)\n",
    "y_pred2=mlp2.predict(X_test)\n",
    "from sklearn.metrics import accuracy_score\n",
    "print('MLPClassifier with 4 hidden layers with size 20')\n",
    "print(\"-------------------------------------------\")\n",
    "print('\\n accuracy:')\n",
    "print('---------------')\n",
    "print(accuracy_score(y_test, y_pred2))\n",
    "from sklearn.metrics import confusion_matrix\n",
    "cm2 = confusion_matrix(y_test, y_pred2)\n",
    "cmDf2=pd.DataFrame(cm2, index=mlp2.classes_, columns=mlp2.classes_)\n",
    "print('\\nConfusion Matrix')\n",
    "print('-------------------')\n",
    "print(cmDf2)\n",
    "from sklearn.metrics import classification_report      \n",
    "print ('\\nclassification_report')\n",
    "print('------------------------')\n",
    "print(classification_report(y_test, y_pred2))"
   ]
  },
  {
   "cell_type": "code",
   "execution_count": 20,
   "metadata": {},
   "outputs": [
    {
     "name": "stdout",
     "output_type": "stream",
     "text": [
      "MLPClassifier with 4 hidden layers\n",
      "-------------------------------------------\n",
      "\n",
      " accuracy:\n",
      "---------------\n",
      "0.9148936170212766\n",
      "\n",
      "Confusion Matrix\n",
      "-------------------\n",
      "    0    1\n",
      "0  58    9\n",
      "1   7  114\n",
      "\n",
      "classification_report\n",
      "------------------------\n",
      "              precision    recall  f1-score   support\n",
      "\n",
      "           0       0.89      0.87      0.88        67\n",
      "           1       0.93      0.94      0.93       121\n",
      "\n",
      "    accuracy                           0.91       188\n",
      "   macro avg       0.91      0.90      0.91       188\n",
      "weighted avg       0.91      0.91      0.91       188\n",
      "\n"
     ]
    }
   ],
   "source": [
    "mlp3 = MLPClassifier(hidden_layer_sizes=(50, 40, 30, 20, 10),max_iter=5000)\n",
    "mlp3.fit(X_train,y_train)\n",
    "y_pred3=mlp3.predict(X_test)\n",
    "from sklearn.metrics import accuracy_score\n",
    "print('MLPClassifier with 4 hidden layers')\n",
    "print(\"-------------------------------------------\")\n",
    "print('\\n accuracy:')\n",
    "print('---------------')\n",
    "print(accuracy_score(y_test, y_pred3))\n",
    "from sklearn.metrics import confusion_matrix\n",
    "cm3 = confusion_matrix(y_test, y_pred3)\n",
    "cmDf3=pd.DataFrame(cm3, index=mlp3.classes_, columns=mlp3.classes_)\n",
    "print('\\nConfusion Matrix')\n",
    "print('-------------------')\n",
    "print(cmDf3)\n",
    "from sklearn.metrics import classification_report      \n",
    "print ('\\nclassification_report')\n",
    "print('------------------------')\n",
    "print(classification_report(y_test, y_pred3))"
   ]
  },
  {
   "cell_type": "markdown",
   "metadata": {},
   "source": [
    "# using StandardScalar"
   ]
  },
  {
   "cell_type": "markdown",
   "metadata": {},
   "source": [
    "Scale the data using the standard scalar:<br>\n",
    "* fit X train data\n",
    "* transform X train and test"
   ]
  },
  {
   "cell_type": "code",
   "execution_count": 21,
   "metadata": {},
   "outputs": [
    {
     "data": {
      "text/plain": [
       "StandardScaler()"
      ]
     },
     "execution_count": 21,
     "metadata": {},
     "output_type": "execute_result"
    }
   ],
   "source": [
    "from sklearn.preprocessing import StandardScaler\n",
    "scaler = StandardScaler()\n",
    "# Fit only to the training data\n",
    "scaler.fit(X_train)"
   ]
  },
  {
   "cell_type": "code",
   "execution_count": 22,
   "metadata": {},
   "outputs": [],
   "source": [
    "X_train = scaler.transform(X_train)\n",
    "X_test = scaler.transform(X_test)"
   ]
  },
  {
   "cell_type": "markdown",
   "metadata": {},
   "source": [
    "Now test the results"
   ]
  },
  {
   "cell_type": "code",
   "execution_count": 23,
   "metadata": {},
   "outputs": [
    {
     "name": "stdout",
     "output_type": "stream",
     "text": [
      "MLPClassifier with 1 hidden layer with size 10\n",
      "-------------------------------------------\n",
      "\n",
      " accuracy:\n",
      "---------------\n",
      "0.9627659574468085\n",
      "\n",
      "Confusion Matrix\n",
      "-------------------\n",
      "    0    1\n",
      "0  64    3\n",
      "1   4  117\n",
      "\n",
      "classification_report\n",
      "------------------------\n",
      "              precision    recall  f1-score   support\n",
      "\n",
      "           0       0.94      0.96      0.95        67\n",
      "           1       0.97      0.97      0.97       121\n",
      "\n",
      "    accuracy                           0.96       188\n",
      "   macro avg       0.96      0.96      0.96       188\n",
      "weighted avg       0.96      0.96      0.96       188\n",
      "\n"
     ]
    }
   ],
   "source": [
    "mlp4 = MLPClassifier(hidden_layer_sizes=(10),max_iter=1000)\n",
    "mlp4.fit(X_train,y_train)\n",
    "y_pred4=mlp4.predict(X_test)\n",
    "from sklearn.metrics import accuracy_score\n",
    "print('MLPClassifier with 1 hidden layer with size 10')\n",
    "print(\"-------------------------------------------\")\n",
    "print('\\n accuracy:')\n",
    "print('---------------')\n",
    "print(accuracy_score(y_test, y_pred4))\n",
    "from sklearn.metrics import confusion_matrix\n",
    "cm4 = confusion_matrix(y_test, y_pred4)\n",
    "cmDf4=pd.DataFrame(cm4, index=mlp4.classes_, columns=mlp4.classes_)\n",
    "print('\\nConfusion Matrix')\n",
    "print('-------------------')\n",
    "print(cmDf4)\n",
    "from sklearn.metrics import classification_report      \n",
    "print ('\\nclassification_report')\n",
    "print('------------------------')\n",
    "print(classification_report(y_test, y_pred4))"
   ]
  },
  {
   "cell_type": "code",
   "execution_count": null,
   "metadata": {},
   "outputs": [],
   "source": []
  }
 ],
 "metadata": {
  "kernelspec": {
   "display_name": "Python 3",
   "language": "python",
   "name": "python3"
  },
  "language_info": {
   "codemirror_mode": {
    "name": "ipython",
    "version": 3
   },
   "file_extension": ".py",
   "mimetype": "text/x-python",
   "name": "python",
   "nbconvert_exporter": "python",
   "pygments_lexer": "ipython3",
   "version": "3.7.4"
  }
 },
 "nbformat": 4,
 "nbformat_minor": 2
}
